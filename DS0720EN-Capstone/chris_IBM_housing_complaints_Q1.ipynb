{
 "cells": [
  {
   "cell_type": "markdown",
   "metadata": {},
   "source": [
    " # IBM DS0720EN - Capstone Project\n",
    " Chris. -- https://github.com/chris-FR-GitHub/EDX-IBM"
   ]
  },
  {
   "cell_type": "markdown",
   "metadata": {},
   "source": [
    "## Problem Statement\n",
    "The people of New Yorker use the 311 system to report complaints about the non-emergency problems to local authorities. Various agencies in New York are assigned these problems. The Department of Housing Preservation and Development of New York City is the agency that processes 311 complaints that are related to housing and buildings.  \n",
    "\n",
    "In the last few years, the number of 311 complaints coming to the Department of Housing Preservation and Development has increased significantly. Although these complaints are not necessarily urgent, the large volume of complaints and the sudden increase is impacting the overall efficiency of operations of the agency.  \n",
    "\n",
    "Therefore, the Department of Housing Preservation and Development has approached your organization to help them manage the large volume of 311 complaints they are receiving every year.  "
   ]
  },
  {
   "cell_type": "markdown",
   "metadata": {},
   "source": [
    "## <font color=blue>Q1 : Which type of complaint should the Department of Housing Preservation and Development of New York City focus on first?</font>"
   ]
  },
  {
   "cell_type": "markdown",
   "metadata": {},
   "source": [
    "### Preparatory stage"
   ]
  },
  {
   "cell_type": "markdown",
   "metadata": {},
   "source": [
    "As specified in the **\"Ingest the NYC 311 Dataset\"** page, we uploaded a **10 million max** records file, containing the following columns : \n",
    "*created_date, unique_key, complaint_type, incident_zip, incident_address, street_name, address_type, city, resolution_description, borough, latitude, longitude, closed_date, location_type, status*\n",
    "\n",
    "We stored this file in the input folder.\n",
    "\n",
    "We named it : **NYC_311_Dataset.csv**\n",
    "\n",
    "The file size is around 2.5 Gb."
   ]
  },
  {
   "cell_type": "markdown",
   "metadata": {},
   "source": [
    "### Load the data file"
   ]
  },
  {
   "cell_type": "code",
   "execution_count": 1,
   "metadata": {},
   "outputs": [],
   "source": [
    "# Import required libs\n",
    "import pandas as pd\n",
    "import numpy as np\n",
    "import matplotlib.pyplot as plt\n",
    "import seaborn as sns"
   ]
  },
  {
   "cell_type": "code",
   "execution_count": 2,
   "metadata": {},
   "outputs": [
    {
     "data": {
      "text/html": [
       "<div>\n",
       "<style scoped>\n",
       "    .dataframe tbody tr th:only-of-type {\n",
       "        vertical-align: middle;\n",
       "    }\n",
       "\n",
       "    .dataframe tbody tr th {\n",
       "        vertical-align: top;\n",
       "    }\n",
       "\n",
       "    .dataframe thead th {\n",
       "        text-align: right;\n",
       "    }\n",
       "</style>\n",
       "<table border=\"1\" class=\"dataframe\">\n",
       "  <thead>\n",
       "    <tr style=\"text-align: right;\">\n",
       "      <th></th>\n",
       "      <th>created_date</th>\n",
       "      <th>unique_key</th>\n",
       "      <th>complaint_type</th>\n",
       "      <th>incident_zip</th>\n",
       "      <th>incident_address</th>\n",
       "      <th>street_name</th>\n",
       "      <th>address_type</th>\n",
       "      <th>city</th>\n",
       "      <th>resolution_description</th>\n",
       "      <th>borough</th>\n",
       "      <th>latitude</th>\n",
       "      <th>longitude</th>\n",
       "      <th>closed_date</th>\n",
       "      <th>location_type</th>\n",
       "      <th>status</th>\n",
       "    </tr>\n",
       "  </thead>\n",
       "  <tbody>\n",
       "    <tr>\n",
       "      <td>0</td>\n",
       "      <td>2020-01-28 20:26:11</td>\n",
       "      <td>45492325</td>\n",
       "      <td>HEAT/HOT WATER</td>\n",
       "      <td>10462.0</td>\n",
       "      <td>2040 BRONXDALE AVENUE</td>\n",
       "      <td>BRONXDALE AVENUE</td>\n",
       "      <td>ADDRESS</td>\n",
       "      <td>BRONX</td>\n",
       "      <td>The complaint you filed is a duplicate of a co...</td>\n",
       "      <td>BRONX</td>\n",
       "      <td>40.850795</td>\n",
       "      <td>-73.866537</td>\n",
       "      <td>NaT</td>\n",
       "      <td>RESIDENTIAL BUILDING</td>\n",
       "      <td>Open</td>\n",
       "    </tr>\n",
       "    <tr>\n",
       "      <td>1</td>\n",
       "      <td>2020-01-28 15:57:56</td>\n",
       "      <td>45493601</td>\n",
       "      <td>UNSANITARY CONDITION</td>\n",
       "      <td>11368.0</td>\n",
       "      <td>55-02 98 STREET</td>\n",
       "      <td>98 STREET</td>\n",
       "      <td>ADDRESS</td>\n",
       "      <td>Corona</td>\n",
       "      <td>The following complaint conditions are still o...</td>\n",
       "      <td>QUEENS</td>\n",
       "      <td>40.738846</td>\n",
       "      <td>-73.862785</td>\n",
       "      <td>NaT</td>\n",
       "      <td>RESIDENTIAL BUILDING</td>\n",
       "      <td>Open</td>\n",
       "    </tr>\n",
       "    <tr>\n",
       "      <td>2</td>\n",
       "      <td>2020-01-28 04:49:03</td>\n",
       "      <td>45494360</td>\n",
       "      <td>HEAT/HOT WATER</td>\n",
       "      <td>11225.0</td>\n",
       "      <td>181 HAWTHORNE STREET</td>\n",
       "      <td>HAWTHORNE STREET</td>\n",
       "      <td>ADDRESS</td>\n",
       "      <td>BROOKLYN</td>\n",
       "      <td>The Department of Housing Preservation and Dev...</td>\n",
       "      <td>BROOKLYN</td>\n",
       "      <td>40.657592</td>\n",
       "      <td>-73.954469</td>\n",
       "      <td>2020-01-28 21:37:27</td>\n",
       "      <td>RESIDENTIAL BUILDING</td>\n",
       "      <td>Closed</td>\n",
       "    </tr>\n",
       "    <tr>\n",
       "      <td>3</td>\n",
       "      <td>2020-01-28 18:07:16</td>\n",
       "      <td>45493438</td>\n",
       "      <td>PLUMBING</td>\n",
       "      <td>10454.0</td>\n",
       "      <td>514 EAST  138 STREET</td>\n",
       "      <td>EAST  138 STREET</td>\n",
       "      <td>ADDRESS</td>\n",
       "      <td>BRONX</td>\n",
       "      <td>The following complaint conditions are still o...</td>\n",
       "      <td>BRONX</td>\n",
       "      <td>40.807416</td>\n",
       "      <td>-73.918919</td>\n",
       "      <td>NaT</td>\n",
       "      <td>RESIDENTIAL BUILDING</td>\n",
       "      <td>Open</td>\n",
       "    </tr>\n",
       "    <tr>\n",
       "      <td>4</td>\n",
       "      <td>2020-01-28 14:10:04</td>\n",
       "      <td>45492347</td>\n",
       "      <td>HEAT/HOT WATER</td>\n",
       "      <td>10463.0</td>\n",
       "      <td>2800 BAILEY AVENUE</td>\n",
       "      <td>BAILEY AVENUE</td>\n",
       "      <td>ADDRESS</td>\n",
       "      <td>BRONX</td>\n",
       "      <td>The complaint you filed is a duplicate of a co...</td>\n",
       "      <td>BRONX</td>\n",
       "      <td>40.873356</td>\n",
       "      <td>-73.905554</td>\n",
       "      <td>NaT</td>\n",
       "      <td>RESIDENTIAL BUILDING</td>\n",
       "      <td>Open</td>\n",
       "    </tr>\n",
       "    <tr>\n",
       "      <td>5</td>\n",
       "      <td>2020-01-28 08:07:55</td>\n",
       "      <td>45492310</td>\n",
       "      <td>HEAT/HOT WATER</td>\n",
       "      <td>11225.0</td>\n",
       "      <td>1789 BEDFORD AVENUE</td>\n",
       "      <td>BEDFORD AVENUE</td>\n",
       "      <td>ADDRESS</td>\n",
       "      <td>BROOKLYN</td>\n",
       "      <td>The following complaint conditions are still o...</td>\n",
       "      <td>BROOKLYN</td>\n",
       "      <td>40.662278</td>\n",
       "      <td>-73.957064</td>\n",
       "      <td>NaT</td>\n",
       "      <td>RESIDENTIAL BUILDING</td>\n",
       "      <td>Open</td>\n",
       "    </tr>\n",
       "    <tr>\n",
       "      <td>6</td>\n",
       "      <td>2020-01-28 21:11:02</td>\n",
       "      <td>45492265</td>\n",
       "      <td>HEAT/HOT WATER</td>\n",
       "      <td>11226.0</td>\n",
       "      <td>2815 BEVERLY ROAD</td>\n",
       "      <td>BEVERLY ROAD</td>\n",
       "      <td>ADDRESS</td>\n",
       "      <td>BROOKLYN</td>\n",
       "      <td>The following complaint conditions are still o...</td>\n",
       "      <td>BROOKLYN</td>\n",
       "      <td>40.645038</td>\n",
       "      <td>-73.950632</td>\n",
       "      <td>NaT</td>\n",
       "      <td>RESIDENTIAL BUILDING</td>\n",
       "      <td>Open</td>\n",
       "    </tr>\n",
       "    <tr>\n",
       "      <td>7</td>\n",
       "      <td>2020-01-28 07:27:16</td>\n",
       "      <td>45493379</td>\n",
       "      <td>HEAT/HOT WATER</td>\n",
       "      <td>10462.0</td>\n",
       "      <td>2040 BRONXDALE AVENUE</td>\n",
       "      <td>BRONXDALE AVENUE</td>\n",
       "      <td>ADDRESS</td>\n",
       "      <td>BRONX</td>\n",
       "      <td>The complaint you filed is a duplicate of a co...</td>\n",
       "      <td>BRONX</td>\n",
       "      <td>40.850795</td>\n",
       "      <td>-73.866537</td>\n",
       "      <td>NaT</td>\n",
       "      <td>RESIDENTIAL BUILDING</td>\n",
       "      <td>Open</td>\n",
       "    </tr>\n",
       "    <tr>\n",
       "      <td>8</td>\n",
       "      <td>2020-01-28 07:21:15</td>\n",
       "      <td>45494446</td>\n",
       "      <td>HEAT/HOT WATER</td>\n",
       "      <td>10462.0</td>\n",
       "      <td>2040 BRONXDALE AVENUE</td>\n",
       "      <td>BRONXDALE AVENUE</td>\n",
       "      <td>ADDRESS</td>\n",
       "      <td>BRONX</td>\n",
       "      <td>The complaint you filed is a duplicate of a co...</td>\n",
       "      <td>BRONX</td>\n",
       "      <td>40.850795</td>\n",
       "      <td>-73.866537</td>\n",
       "      <td>NaT</td>\n",
       "      <td>RESIDENTIAL BUILDING</td>\n",
       "      <td>Open</td>\n",
       "    </tr>\n",
       "    <tr>\n",
       "      <td>9</td>\n",
       "      <td>2020-01-28 07:08:25</td>\n",
       "      <td>45493589</td>\n",
       "      <td>PLUMBING</td>\n",
       "      <td>11201.0</td>\n",
       "      <td>436 ALBEE SQUARE</td>\n",
       "      <td>ALBEE SQUARE</td>\n",
       "      <td>ADDRESS</td>\n",
       "      <td>BROOKLYN</td>\n",
       "      <td>The following complaint conditions are still o...</td>\n",
       "      <td>BROOKLYN</td>\n",
       "      <td>40.690803</td>\n",
       "      <td>-73.983478</td>\n",
       "      <td>NaT</td>\n",
       "      <td>RESIDENTIAL BUILDING</td>\n",
       "      <td>Open</td>\n",
       "    </tr>\n",
       "  </tbody>\n",
       "</table>\n",
       "</div>"
      ],
      "text/plain": [
       "         created_date  unique_key        complaint_type  incident_zip  \\\n",
       "0 2020-01-28 20:26:11    45492325        HEAT/HOT WATER       10462.0   \n",
       "1 2020-01-28 15:57:56    45493601  UNSANITARY CONDITION       11368.0   \n",
       "2 2020-01-28 04:49:03    45494360        HEAT/HOT WATER       11225.0   \n",
       "3 2020-01-28 18:07:16    45493438              PLUMBING       10454.0   \n",
       "4 2020-01-28 14:10:04    45492347        HEAT/HOT WATER       10463.0   \n",
       "5 2020-01-28 08:07:55    45492310        HEAT/HOT WATER       11225.0   \n",
       "6 2020-01-28 21:11:02    45492265        HEAT/HOT WATER       11226.0   \n",
       "7 2020-01-28 07:27:16    45493379        HEAT/HOT WATER       10462.0   \n",
       "8 2020-01-28 07:21:15    45494446        HEAT/HOT WATER       10462.0   \n",
       "9 2020-01-28 07:08:25    45493589              PLUMBING       11201.0   \n",
       "\n",
       "        incident_address       street_name address_type      city  \\\n",
       "0  2040 BRONXDALE AVENUE  BRONXDALE AVENUE      ADDRESS     BRONX   \n",
       "1        55-02 98 STREET         98 STREET      ADDRESS    Corona   \n",
       "2   181 HAWTHORNE STREET  HAWTHORNE STREET      ADDRESS  BROOKLYN   \n",
       "3   514 EAST  138 STREET  EAST  138 STREET      ADDRESS     BRONX   \n",
       "4     2800 BAILEY AVENUE     BAILEY AVENUE      ADDRESS     BRONX   \n",
       "5    1789 BEDFORD AVENUE    BEDFORD AVENUE      ADDRESS  BROOKLYN   \n",
       "6      2815 BEVERLY ROAD      BEVERLY ROAD      ADDRESS  BROOKLYN   \n",
       "7  2040 BRONXDALE AVENUE  BRONXDALE AVENUE      ADDRESS     BRONX   \n",
       "8  2040 BRONXDALE AVENUE  BRONXDALE AVENUE      ADDRESS     BRONX   \n",
       "9       436 ALBEE SQUARE      ALBEE SQUARE      ADDRESS  BROOKLYN   \n",
       "\n",
       "                              resolution_description   borough   latitude  \\\n",
       "0  The complaint you filed is a duplicate of a co...     BRONX  40.850795   \n",
       "1  The following complaint conditions are still o...    QUEENS  40.738846   \n",
       "2  The Department of Housing Preservation and Dev...  BROOKLYN  40.657592   \n",
       "3  The following complaint conditions are still o...     BRONX  40.807416   \n",
       "4  The complaint you filed is a duplicate of a co...     BRONX  40.873356   \n",
       "5  The following complaint conditions are still o...  BROOKLYN  40.662278   \n",
       "6  The following complaint conditions are still o...  BROOKLYN  40.645038   \n",
       "7  The complaint you filed is a duplicate of a co...     BRONX  40.850795   \n",
       "8  The complaint you filed is a duplicate of a co...     BRONX  40.850795   \n",
       "9  The following complaint conditions are still o...  BROOKLYN  40.690803   \n",
       "\n",
       "   longitude         closed_date         location_type  status  \n",
       "0 -73.866537                 NaT  RESIDENTIAL BUILDING    Open  \n",
       "1 -73.862785                 NaT  RESIDENTIAL BUILDING    Open  \n",
       "2 -73.954469 2020-01-28 21:37:27  RESIDENTIAL BUILDING  Closed  \n",
       "3 -73.918919                 NaT  RESIDENTIAL BUILDING    Open  \n",
       "4 -73.905554                 NaT  RESIDENTIAL BUILDING    Open  \n",
       "5 -73.957064                 NaT  RESIDENTIAL BUILDING    Open  \n",
       "6 -73.950632                 NaT  RESIDENTIAL BUILDING    Open  \n",
       "7 -73.866537                 NaT  RESIDENTIAL BUILDING    Open  \n",
       "8 -73.866537                 NaT  RESIDENTIAL BUILDING    Open  \n",
       "9 -73.983478                 NaT  RESIDENTIAL BUILDING    Open  "
      ]
     },
     "execution_count": 2,
     "metadata": {},
     "output_type": "execute_result"
    }
   ],
   "source": [
    "# Load the file in a dataframe\n",
    "# As suggested in the \"Ingest the NYC 311 Dataset\" page : Parse the date fields by using the parse_dates option\n",
    "df_all = pd.read_csv('./input/NYC_311_Dataset.csv', parse_dates = ['created_date', 'closed_date'])\n",
    "# Display the 10 first rows\n",
    "df_all.head(10)\n"
   ]
  },
  {
   "cell_type": "code",
   "execution_count": 3,
   "metadata": {},
   "outputs": [
    {
     "data": {
      "text/plain": [
       "(6015270, 15)"
      ]
     },
     "execution_count": 3,
     "metadata": {},
     "output_type": "execute_result"
    }
   ],
   "source": [
    "# Get the dataframe size\n",
    "df_all.shape"
   ]
  },
  {
   "cell_type": "markdown",
   "metadata": {},
   "source": [
    "### Check NaN values"
   ]
  },
  {
   "cell_type": "code",
   "execution_count": 4,
   "metadata": {},
   "outputs": [
    {
     "data": {
      "text/html": [
       "<div>\n",
       "<style scoped>\n",
       "    .dataframe tbody tr th:only-of-type {\n",
       "        vertical-align: middle;\n",
       "    }\n",
       "\n",
       "    .dataframe tbody tr th {\n",
       "        vertical-align: top;\n",
       "    }\n",
       "\n",
       "    .dataframe thead th {\n",
       "        text-align: right;\n",
       "    }\n",
       "</style>\n",
       "<table border=\"1\" class=\"dataframe\">\n",
       "  <thead>\n",
       "    <tr style=\"text-align: right;\">\n",
       "      <th></th>\n",
       "      <th>Count</th>\n",
       "      <th>NaN %</th>\n",
       "    </tr>\n",
       "  </thead>\n",
       "  <tbody>\n",
       "    <tr>\n",
       "      <td>created_date</td>\n",
       "      <td>0</td>\n",
       "      <td>0.00%</td>\n",
       "    </tr>\n",
       "    <tr>\n",
       "      <td>unique_key</td>\n",
       "      <td>0</td>\n",
       "      <td>0.00%</td>\n",
       "    </tr>\n",
       "    <tr>\n",
       "      <td>complaint_type</td>\n",
       "      <td>0</td>\n",
       "      <td>0.00%</td>\n",
       "    </tr>\n",
       "    <tr>\n",
       "      <td>incident_zip</td>\n",
       "      <td>80704</td>\n",
       "      <td>1.34%</td>\n",
       "    </tr>\n",
       "    <tr>\n",
       "      <td>incident_address</td>\n",
       "      <td>52831</td>\n",
       "      <td>0.88%</td>\n",
       "    </tr>\n",
       "    <tr>\n",
       "      <td>street_name</td>\n",
       "      <td>52831</td>\n",
       "      <td>0.88%</td>\n",
       "    </tr>\n",
       "    <tr>\n",
       "      <td>address_type</td>\n",
       "      <td>84772</td>\n",
       "      <td>1.41%</td>\n",
       "    </tr>\n",
       "    <tr>\n",
       "      <td>city</td>\n",
       "      <td>80281</td>\n",
       "      <td>1.33%</td>\n",
       "    </tr>\n",
       "    <tr>\n",
       "      <td>resolution_description</td>\n",
       "      <td>7828</td>\n",
       "      <td>0.13%</td>\n",
       "    </tr>\n",
       "    <tr>\n",
       "      <td>borough</td>\n",
       "      <td>0</td>\n",
       "      <td>0.00%</td>\n",
       "    </tr>\n",
       "    <tr>\n",
       "      <td>latitude</td>\n",
       "      <td>80678</td>\n",
       "      <td>1.34%</td>\n",
       "    </tr>\n",
       "    <tr>\n",
       "      <td>longitude</td>\n",
       "      <td>80678</td>\n",
       "      <td>1.34%</td>\n",
       "    </tr>\n",
       "    <tr>\n",
       "      <td>closed_date</td>\n",
       "      <td>126969</td>\n",
       "      <td>2.11%</td>\n",
       "    </tr>\n",
       "    <tr>\n",
       "      <td>location_type</td>\n",
       "      <td>52830</td>\n",
       "      <td>0.88%</td>\n",
       "    </tr>\n",
       "    <tr>\n",
       "      <td>status</td>\n",
       "      <td>0</td>\n",
       "      <td>0.00%</td>\n",
       "    </tr>\n",
       "  </tbody>\n",
       "</table>\n",
       "</div>"
      ],
      "text/plain": [
       "                         Count  NaN %\n",
       "created_date                 0  0.00%\n",
       "unique_key                   0  0.00%\n",
       "complaint_type               0  0.00%\n",
       "incident_zip             80704  1.34%\n",
       "incident_address         52831  0.88%\n",
       "street_name              52831  0.88%\n",
       "address_type             84772  1.41%\n",
       "city                     80281  1.33%\n",
       "resolution_description    7828  0.13%\n",
       "borough                      0  0.00%\n",
       "latitude                 80678  1.34%\n",
       "longitude                80678  1.34%\n",
       "closed_date             126969  2.11%\n",
       "location_type            52830  0.88%\n",
       "status                       0  0.00%"
      ]
     },
     "execution_count": 4,
     "metadata": {},
     "output_type": "execute_result"
    }
   ],
   "source": [
    "# Count NaN values in each column\n",
    "df_NaN_count = df_all.isnull().sum(axis = 0)\n",
    "df_NaN_count = df_NaN_count.to_frame()\n",
    "df_NaN_count.rename(columns = {list(df_NaN_count)[0]:'Count'}, inplace=True)\n",
    "df_NaN_count['NaN %'] = df_NaN_count['Count'] / len(df_all)\n",
    "df_NaN_count['NaN %'] = df_NaN_count['NaN %'].map(lambda x: \"{0:.2f}%\".format(x*100))\n",
    "df_NaN_count"
   ]
  },
  {
   "cell_type": "markdown",
   "metadata": {},
   "source": [
    "No NaN values for the **complaint_type** and **status** columns.  \n",
    "Some NaN in the **closed_date** column but it makes sense as only closed complaints have a closed date."
   ]
  },
  {
   "cell_type": "code",
   "execution_count": 5,
   "metadata": {},
   "outputs": [
    {
     "name": "stdout",
     "output_type": "stream",
     "text": [
      "Only 197 of 5881368 closed records have no closed date\n"
     ]
    }
   ],
   "source": [
    "print ('Only' , df_all[df_all['status']== 'Closed']['closed_date'].isnull().sum(axis = 0), \n",
    "       'of', len(df_all[df_all['status']== 'Closed']), 'closed records have no closed date')"
   ]
  },
  {
   "cell_type": "markdown",
   "metadata": {},
   "source": [
    "### Check unique values"
   ]
  },
  {
   "cell_type": "code",
   "execution_count": 6,
   "metadata": {
    "scrolled": true
   },
   "outputs": [
    {
     "data": {
      "text/plain": [
       "array(['HEAT/HOT WATER', 'UNSANITARY CONDITION', 'PLUMBING',\n",
       "       'PAINT/PLASTER', 'DOOR/WINDOW', 'APPLIANCE', 'WATER LEAK',\n",
       "       'ELECTRIC', 'GENERAL', 'FLOORING/STAIRS', 'SAFETY', 'ELEVATOR',\n",
       "       'OUTSIDE BUILDING', 'Unsanitary Condition',\n",
       "       'HPD Literature Request', 'HEATING', 'PAINT - PLASTER', 'Safety',\n",
       "       'Electric', 'NONCONST', 'CONSTRUCTION', 'GENERAL CONSTRUCTION',\n",
       "       'General', 'AGENCY', 'STRUCTURAL', 'VACANT APARTMENT',\n",
       "       'Outside Building', 'Plumbing', 'Appliance', 'Mold'], dtype=object)"
      ]
     },
     "execution_count": 6,
     "metadata": {},
     "output_type": "execute_result"
    }
   ],
   "source": [
    "#Check distinct complaint_type\n",
    "df_all['complaint_type'].unique()"
   ]
  },
  {
   "cell_type": "code",
   "execution_count": 7,
   "metadata": {},
   "outputs": [
    {
     "data": {
      "text/plain": [
       "array(['Open', 'Closed', 'Assigned', 'In Progress', 'Pending'],\n",
       "      dtype=object)"
      ]
     },
     "execution_count": 7,
     "metadata": {},
     "output_type": "execute_result"
    }
   ],
   "source": [
    "#Check distinct Status\n",
    "df_all['status'].unique()"
   ]
  },
  {
   "cell_type": "markdown",
   "metadata": {},
   "source": [
    "### Count by complaint_type"
   ]
  },
  {
   "cell_type": "code",
   "execution_count": 8,
   "metadata": {},
   "outputs": [
    {
     "data": {
      "text/html": [
       "<div>\n",
       "<style scoped>\n",
       "    .dataframe tbody tr th:only-of-type {\n",
       "        vertical-align: middle;\n",
       "    }\n",
       "\n",
       "    .dataframe tbody tr th {\n",
       "        vertical-align: top;\n",
       "    }\n",
       "\n",
       "    .dataframe thead th {\n",
       "        text-align: right;\n",
       "    }\n",
       "</style>\n",
       "<table border=\"1\" class=\"dataframe\">\n",
       "  <thead>\n",
       "    <tr style=\"text-align: right;\">\n",
       "      <th></th>\n",
       "      <th>Count</th>\n",
       "      <th>Percentage</th>\n",
       "    </tr>\n",
       "  </thead>\n",
       "  <tbody>\n",
       "    <tr>\n",
       "      <td>HEAT/HOT WATER</td>\n",
       "      <td>1258260</td>\n",
       "      <td>20.92%</td>\n",
       "    </tr>\n",
       "    <tr>\n",
       "      <td>HEATING</td>\n",
       "      <td>887869</td>\n",
       "      <td>14.76%</td>\n",
       "    </tr>\n",
       "    <tr>\n",
       "      <td>PLUMBING</td>\n",
       "      <td>710913</td>\n",
       "      <td>11.82%</td>\n",
       "    </tr>\n",
       "    <tr>\n",
       "      <td>GENERAL CONSTRUCTION</td>\n",
       "      <td>500863</td>\n",
       "      <td>8.33%</td>\n",
       "    </tr>\n",
       "    <tr>\n",
       "      <td>UNSANITARY CONDITION</td>\n",
       "      <td>451299</td>\n",
       "      <td>7.50%</td>\n",
       "    </tr>\n",
       "    <tr>\n",
       "      <td>PAINT - PLASTER</td>\n",
       "      <td>361257</td>\n",
       "      <td>6.01%</td>\n",
       "    </tr>\n",
       "    <tr>\n",
       "      <td>PAINT/PLASTER</td>\n",
       "      <td>346329</td>\n",
       "      <td>5.76%</td>\n",
       "    </tr>\n",
       "    <tr>\n",
       "      <td>ELECTRIC</td>\n",
       "      <td>307214</td>\n",
       "      <td>5.11%</td>\n",
       "    </tr>\n",
       "    <tr>\n",
       "      <td>NONCONST</td>\n",
       "      <td>260890</td>\n",
       "      <td>4.34%</td>\n",
       "    </tr>\n",
       "    <tr>\n",
       "      <td>DOOR/WINDOW</td>\n",
       "      <td>205140</td>\n",
       "      <td>3.41%</td>\n",
       "    </tr>\n",
       "  </tbody>\n",
       "</table>\n",
       "</div>"
      ],
      "text/plain": [
       "                        Count Percentage\n",
       "HEAT/HOT WATER        1258260     20.92%\n",
       "HEATING                887869     14.76%\n",
       "PLUMBING               710913     11.82%\n",
       "GENERAL CONSTRUCTION   500863      8.33%\n",
       "UNSANITARY CONDITION   451299      7.50%\n",
       "PAINT - PLASTER        361257      6.01%\n",
       "PAINT/PLASTER          346329      5.76%\n",
       "ELECTRIC               307214      5.11%\n",
       "NONCONST               260890      4.34%\n",
       "DOOR/WINDOW            205140      3.41%"
      ]
     },
     "execution_count": 8,
     "metadata": {},
     "output_type": "execute_result"
    }
   ],
   "source": [
    "def getCountAndPercent(col):\n",
    "    df = pd.concat([col.value_counts(),              \n",
    "                    col.value_counts(normalize=True).mul(100).map(lambda x: \"{0:.2f}%\".format(x))],\n",
    "                   axis=1,\n",
    "                   keys=('Count','Percentage'))\n",
    "    return df\n",
    "\n",
    "#get the count and percentage\n",
    "df_complaint_type = getCountAndPercent( df_all['complaint_type'])\n",
    "df_complaint_type.head(10)"
   ]
  },
  {
   "cell_type": "code",
   "execution_count": 9,
   "metadata": {},
   "outputs": [
    {
     "data": {
      "image/png": "[encoded data removed]",
      "text/plain": [
       "<Figure size 720x432 with 1 Axes>"
      ]
     },
     "metadata": {
      "needs_background": "light"
     },
     "output_type": "display_data"
    }
   ],
   "source": [
    "# plot the count\n",
    "def plotTOP10(df, strTitle):\n",
    "    # TOP 10 and an OTHER type\n",
    "    top10_other = df.head(10)\n",
    "    if len(df) > 10:\n",
    "        top10_other['Remaining {0} types'.format(len(df) - 10)] = sum(df[10:])\n",
    "\n",
    "    top10_other.plot(kind='barh', figsize=(10, 6),fontsize=12)\n",
    "    plt.xlabel('Number of Complaints',fontsize=14)\n",
    "    plt.title(strTitle, fontsize=14)\n",
    "    plt.gca().invert_yaxis()\n",
    "    [plt.text(v, i, '{:,d}'.format(v)) for i, v in enumerate(top10_other)];\n",
    "    plt.show()\n",
    "    \n",
    "plotTOP10(df_complaint_type['Count'], 'TOP 10 - Number of records by Complaint type')\n",
    "\n"
   ]
  },
  {
   "cell_type": "markdown",
   "metadata": {},
   "source": [
    "If we follow the Quizz, we can merge the **HEAT/HOT WATER** & **HEATING** types."
   ]
  },
  {
   "cell_type": "code",
   "execution_count": 10,
   "metadata": {},
   "outputs": [
    {
     "data": {
      "text/html": [
       "<div>\n",
       "<style scoped>\n",
       "    .dataframe tbody tr th:only-of-type {\n",
       "        vertical-align: middle;\n",
       "    }\n",
       "\n",
       "    .dataframe tbody tr th {\n",
       "        vertical-align: top;\n",
       "    }\n",
       "\n",
       "    .dataframe thead th {\n",
       "        text-align: right;\n",
       "    }\n",
       "</style>\n",
       "<table border=\"1\" class=\"dataframe\">\n",
       "  <thead>\n",
       "    <tr style=\"text-align: right;\">\n",
       "      <th></th>\n",
       "      <th>Count</th>\n",
       "      <th>Percentage</th>\n",
       "    </tr>\n",
       "  </thead>\n",
       "  <tbody>\n",
       "    <tr>\n",
       "      <td>HEATING/HOT WATER</td>\n",
       "      <td>2146129</td>\n",
       "      <td>35.68%</td>\n",
       "    </tr>\n",
       "    <tr>\n",
       "      <td>PLUMBING</td>\n",
       "      <td>710913</td>\n",
       "      <td>11.82%</td>\n",
       "    </tr>\n",
       "    <tr>\n",
       "      <td>GENERAL CONSTRUCTION</td>\n",
       "      <td>500863</td>\n",
       "      <td>8.33%</td>\n",
       "    </tr>\n",
       "    <tr>\n",
       "      <td>UNSANITARY CONDITION</td>\n",
       "      <td>451299</td>\n",
       "      <td>7.50%</td>\n",
       "    </tr>\n",
       "    <tr>\n",
       "      <td>PAINT - PLASTER</td>\n",
       "      <td>361257</td>\n",
       "      <td>6.01%</td>\n",
       "    </tr>\n",
       "    <tr>\n",
       "      <td>PAINT/PLASTER</td>\n",
       "      <td>346329</td>\n",
       "      <td>5.76%</td>\n",
       "    </tr>\n",
       "    <tr>\n",
       "      <td>ELECTRIC</td>\n",
       "      <td>307214</td>\n",
       "      <td>5.11%</td>\n",
       "    </tr>\n",
       "    <tr>\n",
       "      <td>NONCONST</td>\n",
       "      <td>260890</td>\n",
       "      <td>4.34%</td>\n",
       "    </tr>\n",
       "    <tr>\n",
       "      <td>DOOR/WINDOW</td>\n",
       "      <td>205140</td>\n",
       "      <td>3.41%</td>\n",
       "    </tr>\n",
       "    <tr>\n",
       "      <td>WATER LEAK</td>\n",
       "      <td>193521</td>\n",
       "      <td>3.22%</td>\n",
       "    </tr>\n",
       "  </tbody>\n",
       "</table>\n",
       "</div>"
      ],
      "text/plain": [
       "                        Count Percentage\n",
       "HEATING/HOT WATER     2146129     35.68%\n",
       "PLUMBING               710913     11.82%\n",
       "GENERAL CONSTRUCTION   500863      8.33%\n",
       "UNSANITARY CONDITION   451299      7.50%\n",
       "PAINT - PLASTER        361257      6.01%\n",
       "PAINT/PLASTER          346329      5.76%\n",
       "ELECTRIC               307214      5.11%\n",
       "NONCONST               260890      4.34%\n",
       "DOOR/WINDOW            205140      3.41%\n",
       "WATER LEAK             193521      3.22%"
      ]
     },
     "execution_count": 10,
     "metadata": {},
     "output_type": "execute_result"
    }
   ],
   "source": [
    "# Merge the 'HEAT/HOT WATER' & 'HEATING' types\n",
    "df_all['complaint_type'].replace(\n",
    "    to_replace=['HEAT/HOT WATER', 'HEATING'],\n",
    "    value='HEATING/HOT WATER',\n",
    "    inplace=True\n",
    ")\n",
    "#get the count and percentage\n",
    "df_complaint_type = getCountAndPercent( df_all['complaint_type'])\n",
    "\n",
    "df_complaint_type.head(10)\n"
   ]
  },
  {
   "cell_type": "code",
   "execution_count": 11,
   "metadata": {},
   "outputs": [
    {
     "data": {
      "image/png": "[encoded data removed]",
      "text/plain": [
       "<Figure size 720x432 with 1 Axes>"
      ]
     },
     "metadata": {
      "needs_background": "light"
     },
     "output_type": "display_data"
    }
   ],
   "source": [
    "# plot\n",
    "plotTOP10(df_complaint_type['Count'], 'TOP 10 - Number of records by Complaint type')"
   ]
  },
  {
   "cell_type": "markdown",
   "metadata": {},
   "source": [
    "####  <font color=\"blue\">The Department of Housing Preservation and Development of New York City should address **both of 'Heat/Hot Water' and 'Heating'** complaint types first.</font>"
   ]
  },
  {
   "cell_type": "markdown",
   "metadata": {},
   "source": [
    "### Extra check : Closed Complaints resolution time (in Days)"
   ]
  },
  {
   "cell_type": "code",
   "execution_count": 12,
   "metadata": {},
   "outputs": [
    {
     "data": {
      "text/plain": [
       "(5881368, 3)"
      ]
     },
     "execution_count": 12,
     "metadata": {},
     "output_type": "execute_result"
    }
   ],
   "source": [
    "df_closed = df_all[df_all['status'] == 'Closed'][['complaint_type', 'created_date','closed_date']]\n",
    "df_closed.shape"
   ]
  },
  {
   "cell_type": "code",
   "execution_count": 13,
   "metadata": {},
   "outputs": [
    {
     "data": {
      "text/html": [
       "<div>\n",
       "<style scoped>\n",
       "    .dataframe tbody tr th:only-of-type {\n",
       "        vertical-align: middle;\n",
       "    }\n",
       "\n",
       "    .dataframe tbody tr th {\n",
       "        vertical-align: top;\n",
       "    }\n",
       "\n",
       "    .dataframe thead th {\n",
       "        text-align: right;\n",
       "    }\n",
       "</style>\n",
       "<table border=\"1\" class=\"dataframe\">\n",
       "  <thead>\n",
       "    <tr style=\"text-align: right;\">\n",
       "      <th></th>\n",
       "      <th>complaint_type</th>\n",
       "      <th>created_date</th>\n",
       "      <th>closed_date</th>\n",
       "      <th>Delta in Days</th>\n",
       "    </tr>\n",
       "  </thead>\n",
       "  <tbody>\n",
       "    <tr>\n",
       "      <td>2</td>\n",
       "      <td>HEATING/HOT WATER</td>\n",
       "      <td>2020-01-28 04:49:03</td>\n",
       "      <td>2020-01-28 21:37:27</td>\n",
       "      <td>0.0</td>\n",
       "    </tr>\n",
       "    <tr>\n",
       "      <td>12</td>\n",
       "      <td>HEATING/HOT WATER</td>\n",
       "      <td>2020-01-28 16:57:34</td>\n",
       "      <td>2020-01-28 21:37:43</td>\n",
       "      <td>0.0</td>\n",
       "    </tr>\n",
       "    <tr>\n",
       "      <td>19</td>\n",
       "      <td>HEATING/HOT WATER</td>\n",
       "      <td>2020-01-28 16:49:00</td>\n",
       "      <td>2020-01-28 17:40:01</td>\n",
       "      <td>0.0</td>\n",
       "    </tr>\n",
       "    <tr>\n",
       "      <td>35</td>\n",
       "      <td>HEATING/HOT WATER</td>\n",
       "      <td>2020-01-28 13:38:52</td>\n",
       "      <td>2020-01-28 17:40:01</td>\n",
       "      <td>0.0</td>\n",
       "    </tr>\n",
       "    <tr>\n",
       "      <td>41</td>\n",
       "      <td>HEATING/HOT WATER</td>\n",
       "      <td>2020-01-28 04:45:39</td>\n",
       "      <td>2020-01-28 15:58:43</td>\n",
       "      <td>0.0</td>\n",
       "    </tr>\n",
       "  </tbody>\n",
       "</table>\n",
       "</div>"
      ],
      "text/plain": [
       "       complaint_type        created_date         closed_date  Delta in Days\n",
       "2   HEATING/HOT WATER 2020-01-28 04:49:03 2020-01-28 21:37:27            0.0\n",
       "12  HEATING/HOT WATER 2020-01-28 16:57:34 2020-01-28 21:37:43            0.0\n",
       "19  HEATING/HOT WATER 2020-01-28 16:49:00 2020-01-28 17:40:01            0.0\n",
       "35  HEATING/HOT WATER 2020-01-28 13:38:52 2020-01-28 17:40:01            0.0\n",
       "41  HEATING/HOT WATER 2020-01-28 04:45:39 2020-01-28 15:58:43            0.0"
      ]
     },
     "execution_count": 13,
     "metadata": {},
     "output_type": "execute_result"
    }
   ],
   "source": [
    "# Compute delta between open and closed dates.\n",
    "df_closed[['created_date','closed_date']] = df_closed[['created_date','closed_date']].apply(pd.to_datetime)\n",
    "df_closed['Delta in Days'] = (df_closed['closed_date'] - df_closed['created_date']).dt.days\n",
    "# drop records containing NaNs\n",
    "df_closed.dropna(inplace=True)\n",
    "df_closed.head(5)"
   ]
  },
  {
   "cell_type": "code",
   "execution_count": 14,
   "metadata": {},
   "outputs": [
    {
     "data": {
      "text/html": [
       "<div>\n",
       "<style scoped>\n",
       "    .dataframe tbody tr th:only-of-type {\n",
       "        vertical-align: middle;\n",
       "    }\n",
       "\n",
       "    .dataframe tbody tr th {\n",
       "        vertical-align: top;\n",
       "    }\n",
       "\n",
       "    .dataframe thead th {\n",
       "        text-align: right;\n",
       "    }\n",
       "</style>\n",
       "<table border=\"1\" class=\"dataframe\">\n",
       "  <thead>\n",
       "    <tr style=\"text-align: right;\">\n",
       "      <th></th>\n",
       "      <th>complaint_type</th>\n",
       "      <th>count</th>\n",
       "      <th>min</th>\n",
       "      <th>Percentile25</th>\n",
       "      <th>mean</th>\n",
       "      <th>median</th>\n",
       "      <th>Percentile75</th>\n",
       "      <th>max</th>\n",
       "    </tr>\n",
       "  </thead>\n",
       "  <tbody>\n",
       "    <tr>\n",
       "      <td>12</td>\n",
       "      <td>HEATING/HOT WATER</td>\n",
       "      <td>2130132</td>\n",
       "      <td>0.0</td>\n",
       "      <td>1.0</td>\n",
       "      <td>3.166615</td>\n",
       "      <td>3.0</td>\n",
       "      <td>4.0</td>\n",
       "      <td>1686.0</td>\n",
       "    </tr>\n",
       "    <tr>\n",
       "      <td>19</td>\n",
       "      <td>PLUMBING</td>\n",
       "      <td>684785</td>\n",
       "      <td>0.0</td>\n",
       "      <td>5.0</td>\n",
       "      <td>16.129387</td>\n",
       "      <td>10.0</td>\n",
       "      <td>20.0</td>\n",
       "      <td>1207.0</td>\n",
       "    </tr>\n",
       "    <tr>\n",
       "      <td>10</td>\n",
       "      <td>GENERAL CONSTRUCTION</td>\n",
       "      <td>471196</td>\n",
       "      <td>0.0</td>\n",
       "      <td>5.0</td>\n",
       "      <td>14.798211</td>\n",
       "      <td>10.0</td>\n",
       "      <td>20.0</td>\n",
       "      <td>733.0</td>\n",
       "    </tr>\n",
       "    <tr>\n",
       "      <td>24</td>\n",
       "      <td>UNSANITARY CONDITION</td>\n",
       "      <td>447614</td>\n",
       "      <td>0.0</td>\n",
       "      <td>6.0</td>\n",
       "      <td>22.059891</td>\n",
       "      <td>13.0</td>\n",
       "      <td>23.0</td>\n",
       "      <td>1881.0</td>\n",
       "    </tr>\n",
       "    <tr>\n",
       "      <td>18</td>\n",
       "      <td>PAINT/PLASTER</td>\n",
       "      <td>344627</td>\n",
       "      <td>0.0</td>\n",
       "      <td>5.0</td>\n",
       "      <td>17.799331</td>\n",
       "      <td>11.0</td>\n",
       "      <td>19.0</td>\n",
       "      <td>2835.0</td>\n",
       "    </tr>\n",
       "    <tr>\n",
       "      <td>17</td>\n",
       "      <td>PAINT - PLASTER</td>\n",
       "      <td>339589</td>\n",
       "      <td>0.0</td>\n",
       "      <td>5.0</td>\n",
       "      <td>14.430515</td>\n",
       "      <td>10.0</td>\n",
       "      <td>19.0</td>\n",
       "      <td>726.0</td>\n",
       "    </tr>\n",
       "    <tr>\n",
       "      <td>5</td>\n",
       "      <td>ELECTRIC</td>\n",
       "      <td>297951</td>\n",
       "      <td>0.0</td>\n",
       "      <td>5.0</td>\n",
       "      <td>16.629372</td>\n",
       "      <td>10.0</td>\n",
       "      <td>19.0</td>\n",
       "      <td>1207.0</td>\n",
       "    </tr>\n",
       "    <tr>\n",
       "      <td>14</td>\n",
       "      <td>NONCONST</td>\n",
       "      <td>245582</td>\n",
       "      <td>0.0</td>\n",
       "      <td>5.0</td>\n",
       "      <td>18.203065</td>\n",
       "      <td>11.0</td>\n",
       "      <td>21.0</td>\n",
       "      <td>1207.0</td>\n",
       "    </tr>\n",
       "    <tr>\n",
       "      <td>4</td>\n",
       "      <td>DOOR/WINDOW</td>\n",
       "      <td>203888</td>\n",
       "      <td>0.0</td>\n",
       "      <td>6.0</td>\n",
       "      <td>18.742265</td>\n",
       "      <td>12.0</td>\n",
       "      <td>21.0</td>\n",
       "      <td>1889.0</td>\n",
       "    </tr>\n",
       "    <tr>\n",
       "      <td>27</td>\n",
       "      <td>WATER LEAK</td>\n",
       "      <td>192112</td>\n",
       "      <td>0.0</td>\n",
       "      <td>6.0</td>\n",
       "      <td>19.040653</td>\n",
       "      <td>12.0</td>\n",
       "      <td>21.0</td>\n",
       "      <td>1231.0</td>\n",
       "    </tr>\n",
       "  </tbody>\n",
       "</table>\n",
       "</div>"
      ],
      "text/plain": [
       "          complaint_type    count  min  Percentile25       mean  median  \\\n",
       "12     HEATING/HOT WATER  2130132  0.0           1.0   3.166615     3.0   \n",
       "19              PLUMBING   684785  0.0           5.0  16.129387    10.0   \n",
       "10  GENERAL CONSTRUCTION   471196  0.0           5.0  14.798211    10.0   \n",
       "24  UNSANITARY CONDITION   447614  0.0           6.0  22.059891    13.0   \n",
       "18         PAINT/PLASTER   344627  0.0           5.0  17.799331    11.0   \n",
       "17       PAINT - PLASTER   339589  0.0           5.0  14.430515    10.0   \n",
       "5               ELECTRIC   297951  0.0           5.0  16.629372    10.0   \n",
       "14              NONCONST   245582  0.0           5.0  18.203065    11.0   \n",
       "4            DOOR/WINDOW   203888  0.0           6.0  18.742265    12.0   \n",
       "27            WATER LEAK   192112  0.0           6.0  19.040653    12.0   \n",
       "\n",
       "    Percentile75     max  \n",
       "12           4.0  1686.0  \n",
       "19          20.0  1207.0  \n",
       "10          20.0   733.0  \n",
       "24          23.0  1881.0  \n",
       "18          19.0  2835.0  \n",
       "17          19.0   726.0  \n",
       "5           19.0  1207.0  \n",
       "14          21.0  1207.0  \n",
       "4           21.0  1889.0  \n",
       "27          21.0  1231.0  "
      ]
     },
     "execution_count": 14,
     "metadata": {},
     "output_type": "execute_result"
    }
   ],
   "source": [
    "def Percentile25(g):\n",
    "    return np.percentile(g, 25)\n",
    "\n",
    "def Percentile75(g):\n",
    "    return np.percentile(g, 75)\n",
    "\n",
    "df_closed_avg = df_closed.pivot_table(index=['complaint_type'],\n",
    "                    values='Delta in Days',\n",
    "                    aggfunc=('min',Percentile25,'mean','median',Percentile75,'max','count')).reset_index()\n",
    "df_closed_avg = df_closed_avg[['complaint_type', 'count', 'min', 'Percentile25',  'mean', 'median','Percentile75', 'max']]\n",
    "# List top 10 complaint types\n",
    "df_closed_avg.sort_values(by='count', ascending=False).head(10)\n"
   ]
  },
  {
   "cell_type": "markdown",
   "metadata": {},
   "source": [
    "There are a lot of outliers (see max column).  \n",
    "The \"HEATING/HOT WATER\" complaints are closed around the 3 days.  \n",
    "The other types are closed in 10 to 14 days.  "
   ]
  },
  {
   "cell_type": "markdown",
   "metadata": {},
   "source": [
    "### Non Closed complaints\n",
    "\n",
    "If we check the non-closed complaints ('Open', 'Assigned', 'In Progress', 'Pending'), the result is a little bit different."
   ]
  },
  {
   "cell_type": "code",
   "execution_count": 15,
   "metadata": {},
   "outputs": [
    {
     "data": {
      "text/html": [
       "<div>\n",
       "<style scoped>\n",
       "    .dataframe tbody tr th:only-of-type {\n",
       "        vertical-align: middle;\n",
       "    }\n",
       "\n",
       "    .dataframe tbody tr th {\n",
       "        vertical-align: top;\n",
       "    }\n",
       "\n",
       "    .dataframe thead th {\n",
       "        text-align: right;\n",
       "    }\n",
       "</style>\n",
       "<table border=\"1\" class=\"dataframe\">\n",
       "  <thead>\n",
       "    <tr style=\"text-align: right;\">\n",
       "      <th></th>\n",
       "      <th>Count</th>\n",
       "      <th>Percentage</th>\n",
       "    </tr>\n",
       "  </thead>\n",
       "  <tbody>\n",
       "    <tr>\n",
       "      <td>GENERAL CONSTRUCTION</td>\n",
       "      <td>29623</td>\n",
       "      <td>22.12%</td>\n",
       "    </tr>\n",
       "    <tr>\n",
       "      <td>PLUMBING</td>\n",
       "      <td>26086</td>\n",
       "      <td>19.48%</td>\n",
       "    </tr>\n",
       "    <tr>\n",
       "      <td>PAINT - PLASTER</td>\n",
       "      <td>21647</td>\n",
       "      <td>16.17%</td>\n",
       "    </tr>\n",
       "    <tr>\n",
       "      <td>HEATING/HOT WATER</td>\n",
       "      <td>15962</td>\n",
       "      <td>11.92%</td>\n",
       "    </tr>\n",
       "    <tr>\n",
       "      <td>NONCONST</td>\n",
       "      <td>15278</td>\n",
       "      <td>11.41%</td>\n",
       "    </tr>\n",
       "    <tr>\n",
       "      <td>ELECTRIC</td>\n",
       "      <td>9250</td>\n",
       "      <td>6.91%</td>\n",
       "    </tr>\n",
       "    <tr>\n",
       "      <td>APPLIANCE</td>\n",
       "      <td>3793</td>\n",
       "      <td>2.83%</td>\n",
       "    </tr>\n",
       "    <tr>\n",
       "      <td>UNSANITARY CONDITION</td>\n",
       "      <td>3685</td>\n",
       "      <td>2.75%</td>\n",
       "    </tr>\n",
       "    <tr>\n",
       "      <td>PAINT/PLASTER</td>\n",
       "      <td>1702</td>\n",
       "      <td>1.27%</td>\n",
       "    </tr>\n",
       "    <tr>\n",
       "      <td>WATER LEAK</td>\n",
       "      <td>1409</td>\n",
       "      <td>1.05%</td>\n",
       "    </tr>\n",
       "  </tbody>\n",
       "</table>\n",
       "</div>"
      ],
      "text/plain": [
       "                      Count Percentage\n",
       "GENERAL CONSTRUCTION  29623     22.12%\n",
       "PLUMBING              26086     19.48%\n",
       "PAINT - PLASTER       21647     16.17%\n",
       "HEATING/HOT WATER     15962     11.92%\n",
       "NONCONST              15278     11.41%\n",
       "ELECTRIC               9250      6.91%\n",
       "APPLIANCE              3793      2.83%\n",
       "UNSANITARY CONDITION   3685      2.75%\n",
       "PAINT/PLASTER          1702      1.27%\n",
       "WATER LEAK             1409      1.05%"
      ]
     },
     "execution_count": 15,
     "metadata": {},
     "output_type": "execute_result"
    }
   ],
   "source": [
    "df_complaint_type_notclosed = getCountAndPercent(df_all[df_all['status']!= 'Closed']['complaint_type'])\n",
    "df_complaint_type_notclosed.head(10)"
   ]
  },
  {
   "cell_type": "code",
   "execution_count": 16,
   "metadata": {},
   "outputs": [
    {
     "data": {
      "image/png": "[encoded data removed]",
      "text/plain": [
       "<Figure size 720x432 with 1 Axes>"
      ]
     },
     "metadata": {
      "needs_background": "light"
     },
     "output_type": "display_data"
    }
   ],
   "source": [
    "# plot\n",
    "plotTOP10(df_complaint_type_notclosed['Count'], 'TOP 10 - status != Closed - Number of records by Complaint type')"
   ]
  },
  {
   "cell_type": "markdown",
   "metadata": {},
   "source": [
    "If we only check \"Non Closed\" complaints, GENERAL CONSTRUCTION type have the more complaints. "
   ]
  },
  {
   "cell_type": "markdown",
   "metadata": {},
   "source": [
    "## <font color=blue>Q1 Conclusion</font>"
   ]
  },
  {
   "cell_type": "markdown",
   "metadata": {},
   "source": [
    "- <font color=\"blue\">The Department of Housing Preservation and Development of New York City should address **both of 'Heat/Hot Water' and 'Heating'** complaint types first. They represent around 2.1 millions complaints (35%).</font>  \n",
    "- <font color=\"blue\">The total number of *General Construction* complaints is **above 500,000**.</font>  "
   ]
  },
  {
   "cell_type": "code",
   "execution_count": null,
   "metadata": {},
   "outputs": [],
   "source": []
  },
  {
   "cell_type": "code",
   "execution_count": null,
   "metadata": {},
   "outputs": [],
   "source": []
  }
 ],
 "metadata": {
  "kernelspec": {
   "display_name": "Python 3",
   "language": "python",
   "name": "python3"
  },
  "language_info": {
   "codemirror_mode": {
    "name": "ipython",
    "version": 3
   },
   "file_extension": ".py",
   "mimetype": "text/x-python",
   "name": "python",
   "nbconvert_exporter": "python",
   "pygments_lexer": "ipython3",
   "version": "3.7.4"
  }
 },
 "nbformat": 4,
 "nbformat_minor": 2
}
